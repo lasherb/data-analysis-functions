{
 "cells": [
  {
   "cell_type": "markdown",
   "metadata": {},
   "source": [
    "# LLDa txt file Analysis"
   ]
  },
  {
   "cell_type": "markdown",
   "metadata": {},
   "source": [
    "Import Libraries"
   ]
  },
  {
   "cell_type": "code",
   "execution_count": 1,
   "metadata": {},
   "outputs": [],
   "source": [
    "import numpy as np\n",
    "import matplotlib.pyplot as plt\n",
    "import matplotlib.patches as mpatches\n",
    "import pandas as pd\n",
    "import scipy.io as sio\n",
    "import seaborn as sns\n",
    "from scipy.optimize import curve_fit\n",
    "from scipy.signal import find_peaks\n",
    "import scipy.io as sio\n",
    "import json\n",
    "\n",
    "sns.set_style(\"whitegrid\")"
   ]
  },
  {
   "cell_type": "markdown",
   "metadata": {},
   "source": [
    "Set location equal to where the txt files are stored on your computer."
   ]
  },
  {
   "cell_type": "code",
   "execution_count": 2,
   "metadata": {},
   "outputs": [],
   "source": [
    "location = '/Users/brynlasher/Dropbox/'"
   ]
  },
  {
   "cell_type": "markdown",
   "metadata": {},
   "source": [
    "Dropbox location where the data is:"
   ]
  },
  {
   "cell_type": "raw",
   "metadata": {},
   "source": [
    "https://www.dropbox.com/sh/y3hpo7c86qopg0j/AABKuTlur0AFjrNfs9JfaG7Ea?dl=0"
   ]
  },
  {
   "cell_type": "markdown",
   "metadata": {},
   "source": [
    "The functions..."
   ]
  },
  {
   "cell_type": "code",
   "execution_count": 3,
   "metadata": {},
   "outputs": [],
   "source": [
    "%run ./Analysis-Functions.ipynb"
   ]
  },
  {
   "cell_type": "markdown",
   "metadata": {},
   "source": [
    "Use this table to find neurons you might be interested in."
   ]
  },
  {
   "cell_type": "code",
   "execution_count": 4,
   "metadata": {},
   "outputs": [
    {
     "name": "stdout",
     "output_type": "stream",
     "text": [
      "               Name  itd Peak  itd Trough  itd Best Value  itd Halfwidth  \\\n",
      "0    670.01 12_4_06      15.3         8.1            30.0           94.2   \n",
      "1    670.03 12_4_06      14.3         8.0             0.0          107.4   \n",
      "2    670.04 12_4_06      14.7         4.4          -210.0           95.4   \n",
      "3    670.05 12_4_06      10.9         4.9            90.0          129.0   \n",
      "4    670.06 12_4_06       9.6         4.8           -60.0           99.6   \n",
      "5   670.01 11_27_06      11.3         6.0           150.0          149.4   \n",
      "6   670.02 11_27_06      21.9         2.1          -120.0          139.8   \n",
      "7   670.03 11_27_06      19.1         5.9          -300.0           46.2   \n",
      "8   670.04 11_27_06      15.1         3.0          -300.0           91.2   \n",
      "9   670.05 11_27_06      22.4         5.6           -30.0          187.8   \n",
      "10  670.06 11_27_06      14.4         0.2          -210.0          217.2   \n",
      "11  670.08 11_27_06      11.0         4.6           -30.0          125.4   \n",
      "12  670.09 11_27_06      13.9         4.9          -150.0          145.8   \n",
      "13  670.10 11_27_06       4.1         0.0          -210.0          141.0   \n",
      "14  670.11 11_27_06      14.3         3.6           150.0          153.6   \n",
      "15  670.12 11_27_06       6.1         1.5          -240.0          108.6   \n",
      "16  670.13 11_27_06      16.2         5.7          -270.0           91.2   \n",
      "17  670.14 11_27_06      16.7         3.9            90.0          155.4   \n",
      "18  670.15 11_27_06      10.4         0.4            30.0          210.0   \n",
      "19   664.01 10_5_06      12.4         2.8          -240.0          106.2   \n",
      "20   664.02 10_5_06      13.6        10.5          -150.0           43.8   \n",
      "21   664.04 10_5_06       NaN         NaN             NaN            NaN   \n",
      "22   874.02 10_3_06      21.0         6.8           -30.0          109.8   \n",
      "23   874.05 10_3_06      10.0         3.4           -90.0          118.8   \n",
      "24   874.07 10_3_06      14.0         5.4          -240.0           99.6   \n",
      "25   874.06 9_25_06       9.7         4.0          -210.0          111.6   \n",
      "26   874.13 9_25_06      10.1         2.9          -240.0           84.6   \n",
      "27    874.03 9_6_06      21.2         4.3           210.0          103.8   \n",
      "28    874.06 9_6_06      19.0        10.7           210.0          124.2   \n",
      "29    874.07 9_6_06      19.4         3.9             0.0          225.6   \n",
      "30    874.09 9_6_06      16.0         0.6           240.0          159.0   \n",
      "31    874.10 9_6_06      15.7         6.1            90.0          137.4   \n",
      "32    874.12 9_6_06      34.5        11.3            90.0          148.8   \n",
      "33    997.02 5_7_07      15.7         4.2           120.0          152.4   \n",
      "34   997.02 3_26_07      13.5         6.3           120.0           80.4   \n",
      "35   997.03 3_26_07      18.0         9.8           -60.0           84.0   \n",
      "36   997.04 3_26_07       9.0         5.1           150.0          119.4   \n",
      "37   896.01 1_23_07      14.6         5.7          -300.0           87.6   \n",
      "38   896.02 1_23_07      23.1        10.7           150.0          285.0   \n",
      "39   896.03 1_23_07      26.4         8.2             0.0          331.8   \n",
      "40   896.04 1_23_07      20.2         6.0           -90.0          140.4   \n",
      "41   896.05 1_23_07      23.5         7.9           300.0         1266.8   \n",
      "42   896.07 1_23_07      21.7         7.0             0.0          199.2   \n",
      "43    995.01 1_8_07      14.5         1.0            30.0          277.8   \n",
      "\n",
      "    iid Peak  iid Trough  iid Best Vaule  iid Halfwidth  bf Peak  bf Trough  \\\n",
      "0       16.5        10.5          -30.00          14.82    28.10       4.30   \n",
      "1       14.0        10.5          -30.00          26.58    19.80       2.40   \n",
      "2       13.6         8.1          -19.98           8.28    20.90       1.70   \n",
      "3        9.5         6.6           -4.98          26.46    13.30       0.00   \n",
      "4        NaN         NaN             NaN            NaN    21.40       0.20   \n",
      "5       11.1         0.8            0.00          31.75    10.20       0.00   \n",
      "6       22.2        11.5           -5.00          34.60    34.60       0.00   \n",
      "7       19.8        13.4          -10.02          34.50    30.70       1.90   \n",
      "8       12.2         9.2            0.00          16.74    27.80       0.00   \n",
      "9       16.8        13.6           19.98          39.18    28.80       0.00   \n",
      "10      10.0         5.0            4.98          32.10    23.70       0.00   \n",
      "11      12.3         2.4          -30.00           9.96    20.60       1.40   \n",
      "12      11.5         5.4           30.00        1020.20    22.00       0.80   \n",
      "13       3.2         0.1            5.04          16.50     5.60       0.00   \n",
      "14      13.1         6.6           30.00         992.18    23.33       1.00   \n",
      "15       4.1         0.6           30.00        1024.40     8.00       0.60   \n",
      "16       NaN         NaN             NaN            NaN    20.50       1.60   \n",
      "17      12.7         7.6           20.04          30.84    18.40       4.10   \n",
      "18       7.1         4.4          -15.00           5.58    13.20       0.30   \n",
      "19      25.6         6.2           20.00         993.12    18.60       0.00   \n",
      "20      14.5         0.0           20.00         993.20    24.00       0.00   \n",
      "21       NaN         NaN             NaN            NaN    19.00       0.00   \n",
      "22      21.2        12.1            9.96          31.44    17.90       0.10   \n",
      "23       7.5         5.1          -19.98          18.96    10.00       0.83   \n",
      "24      11.4         7.3           25.02           9.30    19.25       0.50   \n",
      "25      11.4         8.2           20.00        1018.88    11.33       2.67   \n",
      "26      10.2         7.7            0.00          24.44    18.60       0.00   \n",
      "27      19.6        16.0            5.00          22.00    25.40       4.20   \n",
      "28      14.0        12.3          -30.00          23.82    18.80       5.90   \n",
      "29      17.2        10.8           30.00        1030.10    35.10       0.00   \n",
      "30      10.0         4.6            0.00          26.04    23.60       0.00   \n",
      "31      13.1         7.2            4.98           6.48    13.20       0.40   \n",
      "32      31.4        25.0            0.00          33.06    47.83       5.83   \n",
      "33      10.0         5.8          -25.00          14.30    19.70       0.00   \n",
      "34      12.7         6.6          -25.00          25.30    18.83       0.83   \n",
      "35      13.5        12.0          -25.00          17.00    24.00       1.29   \n",
      "36       9.7         5.6          -25.00           9.30    15.10       3.40   \n",
      "37       9.1         7.9           25.00        1003.20     9.50       1.40   \n",
      "38      16.3         8.0          -20.00           5.55    24.67       2.40   \n",
      "39      21.8        16.4          -20.00          16.35    26.30       3.90   \n",
      "40      14.8         8.6          -25.00          16.55    26.70       2.30   \n",
      "41      13.4        12.1           25.00        1015.35    25.50       3.60   \n",
      "42      15.5        13.1            0.00          21.45    22.00       2.50   \n",
      "43      10.3         5.7            0.00          24.35    16.40       0.00   \n",
      "\n",
      "    bf Best Vaule  bf Halfwidth  \n",
      "0          5506.4        1176.0  \n",
      "1          4901.6        1125.6  \n",
      "2          5094.8        1066.8  \n",
      "3          4506.8         974.4  \n",
      "4          4498.4         798.0  \n",
      "5          3305.6        1108.8  \n",
      "6          3305.6         789.6  \n",
      "7          3305.6        1108.8  \n",
      "8          3104.0         756.0  \n",
      "9          2902.4         798.0  \n",
      "10         2096.0         562.8  \n",
      "11         4095.2         680.4  \n",
      "12         3498.8         705.6  \n",
      "13         2297.6         932.4  \n",
      "14         3104.0        1100.4  \n",
      "15         4305.2         663.6  \n",
      "16         4103.6         865.2  \n",
      "17         3498.8        1192.8  \n",
      "18         2306.0         688.8  \n",
      "19         5699.6         940.8  \n",
      "20         2306.0        1024.8  \n",
      "21         5699.6        1545.6  \n",
      "22         5094.8        1394.4  \n",
      "23         3700.4         865.2  \n",
      "24         3498.8         932.4  \n",
      "25         4700.0        1747.2  \n",
      "26         6102.8        1226.4  \n",
      "27         4893.2        1528.8  \n",
      "28         4901.6        1260.0  \n",
      "29         2507.6         772.8  \n",
      "30         1894.4         630.0  \n",
      "31         4498.4        1066.8  \n",
      "32         3700.4        1184.4  \n",
      "33         3305.6         840.0  \n",
      "34         6102.8        1285.2  \n",
      "35         5901.2        1402.8  \n",
      "36         5304.8         890.4  \n",
      "37         2507.6         730.8  \n",
      "38         1902.8         604.8  \n",
      "39         1894.4         613.2  \n",
      "40         4305.2         999.6  \n",
      "41         3902.0         991.2  \n",
      "42         2700.8         714.0  \n",
      "43         1902.8         747.6  \n"
     ]
    }
   ],
   "source": [
    "print(printDataframe(location))"
   ]
  },
  {
   "cell_type": "markdown",
   "metadata": {},
   "source": [
    "# Functions to choose from"
   ]
  },
  {
   "cell_type": "raw",
   "metadata": {},
   "source": [
    "filename_search(name)"
   ]
  },
  {
   "cell_type": "markdown",
   "metadata": {},
   "source": [
    "This function takes in a name of a neuron as a string and returns a list of all the file names for this neuron. Returns a list with the file names in the order of itd, iid, bf. If the file does not exist the list will hold the value None. If the name doesn't exist, it will return an empty list."
   ]
  },
  {
   "cell_type": "raw",
   "metadata": {},
   "source": [
    "tuningCurveName(name, kind, location)"
   ]
  },
  {
   "cell_type": "markdown",
   "metadata": {},
   "source": [
    "This function takes in the name of the neuron as a string, either itd, iid, or bf as a string, and the loaction of the files on your computer as a string. It will return the tuning curve plot of this neuron."
   ]
  },
  {
   "cell_type": "raw",
   "metadata": {},
   "source": [
    "getData(name, kind, location)"
   ]
  },
  {
   "cell_type": "markdown",
   "metadata": {},
   "source": [
    "This function returns a class object that has several atributes that can be used for further analysis of the data. It takes in the name of the neuron as a string, either itd, iid, or bf as a string, and the loaction of the files on your computer as a string.\n",
    "\n",
    "List of attributes:\n",
    "\n",
    "peak - The peak\n",
    "\n",
    "trough - The trough\n",
    "\n",
    "BV - Best value\n",
    "\n",
    "HW - Halfwidth\n",
    "\n",
    "parameters - List of unique parameters\n",
    "\n",
    "mean_count - List of mean cout data\n",
    "\n",
    "sd - List of standard deviation"
   ]
  },
  {
   "cell_type": "markdown",
   "metadata": {},
   "source": [
    "# Examples"
   ]
  },
  {
   "cell_type": "markdown",
   "metadata": {},
   "source": [
    "Example of filename_search function:\n",
    "\n",
    "Parameter is the string name of the neuron wanted for further analysis. Returns a list of txt file names in the order of itd, iid, and bf. This function is used if the users wants to see the raw txt files."
   ]
  },
  {
   "cell_type": "code",
   "execution_count": 5,
   "metadata": {
    "scrolled": true
   },
   "outputs": [
    {
     "name": "stdout",
     "output_type": "stream",
     "text": [
      "The file names for neuron 896.05 1_23_07\n",
      "['LLDa/date/1_23_07/1_23_07_data/896.05.3.itd', 'LLDa/date/1_23_07/1_23_07_data/896.05.1.iid', 'LLDa/date/1_23_07/1_23_07_data/896.05.2.bf'] \n",
      "\n",
      "The file names for neuron 664.04 10_5_06\n",
      "Note that there is only a bf file for this neuron.\n",
      "[None, None, 'LLDa/date/10_5_06/10_5_06_data/664.04.1.bf'] \n",
      "\n",
      "What happens when you put in an incorrect name.\n",
      "[] \n",
      "\n"
     ]
    }
   ],
   "source": [
    "# filename_search function\n",
    "\n",
    "print(\"The file names for neuron 896.05 1_23_07\")\n",
    "print(filename_search(\"896.05 1_23_07\"), \"\\n\")\n",
    "\n",
    "print(\"The file names for neuron 664.04 10_5_06\")\n",
    "print(\"Note that there is only a bf file for this neuron.\")\n",
    "print(filename_search(\"664.04 10_5_06\"), \"\\n\")\n",
    "\n",
    "print(\"What happens when you put in an incorrect name.\")\n",
    "print(filename_search(\"fake name\"), \"\\n\")"
   ]
  },
  {
   "cell_type": "markdown",
   "metadata": {},
   "source": [
    "Example of tuningCurveName function:\n",
    "\n",
    "Parameters are the string name of the neuron, the string of the type of auditory spatial cue (\"itd\", \"iid\", and \"bf\", and the location on the user's computer. This function prints the tuning curve requested with a visual of the halfwidth as well as a numeric value of the halfwidth."
   ]
  },
  {
   "cell_type": "code",
   "execution_count": 6,
   "metadata": {},
   "outputs": [
    {
     "name": "stdout",
     "output_type": "stream",
     "text": [
      "The tuning curve for 670.06 11_27_06, itd.\n"
     ]
    },
    {
     "data": {
      "image/png": "[encoded data removed]",
      "text/plain": [
       "<Figure size 432x288 with 1 Axes>"
      ]
     },
     "metadata": {},
     "output_type": "display_data"
    },
    {
     "name": "stdout",
     "output_type": "stream",
     "text": [
      "tuning curve returned successfully \n",
      "\n",
      "The tuning curve for 670.06 11_27_06, iid.\n"
     ]
    },
    {
     "data": {
      "image/png": "[encoded data removed]",
      "text/plain": [
       "<Figure size 432x288 with 1 Axes>"
      ]
     },
     "metadata": {},
     "output_type": "display_data"
    },
    {
     "name": "stdout",
     "output_type": "stream",
     "text": [
      "tuning curve returned successfully \n",
      "\n",
      "The tuning curve for 670.06 11_27_06, bf.\n"
     ]
    },
    {
     "data": {
      "image/png": "[encoded data removed]",
      "text/plain": [
       "<Figure size 432x288 with 1 Axes>"
      ]
     },
     "metadata": {},
     "output_type": "display_data"
    },
    {
     "name": "stdout",
     "output_type": "stream",
     "text": [
      "tuning curve returned successfully \n",
      "\n",
      "The tuning curve for a neuron that does exist, itd.\n",
      "Invalid name \n",
      "\n",
      "The tuning curve for 670.06 11_27_06, with a kind that doesn't exist.\n",
      "Invalid kind \n",
      "\n",
      "The tuning curve for a neuron that doesn't exist with a kind that doesn't exist.\n",
      "Invalid kind and invalid name \n",
      "\n"
     ]
    }
   ],
   "source": [
    "# tuningCurveName function\n",
    "\n",
    "print(\"The tuning curve for 670.06 11_27_06, itd.\")\n",
    "print(tuningCurveName('670.06 11_27_06', 'itd', location), \"\\n\")\n",
    "\n",
    "\n",
    "print(\"The tuning curve for 670.06 11_27_06, iid.\")\n",
    "print(tuningCurveName('670.06 11_27_06', 'iid', location), \"\\n\")\n",
    "\n",
    "\n",
    "print(\"The tuning curve for 670.06 11_27_06, bf.\")\n",
    "print(tuningCurveName('670.06 11_27_06', 'bf', location), \"\\n\")\n",
    "\n",
    "\n",
    "print(\"The tuning curve for a neuron that does exist, itd.\")\n",
    "print(tuningCurveName('fake name', 'itd', location), \"\\n\")\n",
    "\n",
    "\n",
    "print(\"The tuning curve for 670.06 11_27_06, with a kind that doesn't exist.\")\n",
    "print(tuningCurveName('670.06 11_27_06', 'fake kind', location), \"\\n\")\n",
    "\n",
    "\n",
    "print(\"The tuning curve for a neuron that doesn't exist with a kind that doesn't exist.\")\n",
    "print(tuningCurveName('fake name', 'fake kind', location), \"\\n\")\n"
   ]
  },
  {
   "cell_type": "markdown",
   "metadata": {},
   "source": [
    "Example of getData function:\n",
    "\n",
    "Parameters are the string name of the neuron, the string of the type of auditory spatial cue (\"itd\", \"iid\", and \"bf\", and the location on the user's computer. This function returns a Data object that holds atrributes that can be returned to get information about the neuron, such as the peak, trough, best value, parameter list, mean count, snd the standard deviation."
   ]
  },
  {
   "cell_type": "code",
   "execution_count": 7,
   "metadata": {},
   "outputs": [
    {
     "name": "stdout",
     "output_type": "stream",
     "text": [
      "peak: 14.4 \n",
      "\n",
      "trough: 0.2 \n",
      "\n",
      "best value: -210.0 \n",
      "\n",
      "halfwidth: 217.2 \n",
      "\n",
      "parameter list: [-300 -270 -240 -210 -180 -150 -120  -90  -60  -30    0   30   60   90\n",
      "  120  150  180  210  240  270  300] \n",
      "\n",
      "mean count: [ 5.9  8.4 12.  14.4 13.9 13.8 12.7 10.2  6.9  4.1  2.7  1.2  0.2  0.6\n",
      "  1.9  4.2  6.6  9.3 12.1 11.5 13.1] \n",
      "\n",
      "standard deviation: [1.10050493 2.27058485 2.30940108 0.96609178 1.66332999 1.87379591\n",
      " 1.70293864 1.47572957 1.28668394 1.10050493 0.9486833  0.63245553\n",
      " 0.42163702 0.51639778 0.56764621 0.63245553 1.17378779 2.00277585\n",
      " 1.66332999 1.50923086 1.37032032] \n",
      "\n"
     ]
    }
   ],
   "source": [
    "# getData function\n",
    "\n",
    "# the neuron we want data from\n",
    "name = '670.06 11_27_06'\n",
    "\n",
    "# the kind we want\n",
    "kind = 'itd'\n",
    "\n",
    "# setting variable d to the data\n",
    "d = getData(name, kind, location)\n",
    "\n",
    "# print each attribute from the data\n",
    "peak = d.peak\n",
    "trough = d.trough\n",
    "best_value = d.BV\n",
    "halfwidth = d.HW\n",
    "parameters = d.parameters\n",
    "mean_count = d.mean_count\n",
    "standard_deviation = d.sd\n",
    "print(\"peak:\", peak, \"\\n\")\n",
    "print(\"trough:\", trough, \"\\n\")\n",
    "print(\"best value:\", best_value, \"\\n\")\n",
    "print(\"halfwidth:\", halfwidth, \"\\n\")\n",
    "print(\"parameter list:\", parameters, \"\\n\")\n",
    "print(\"mean count:\", mean_count, \"\\n\")\n",
    "print(\"standard deviation:\", standard_deviation, \"\\n\")"
   ]
  }
 ],
 "metadata": {
  "kernelspec": {
   "display_name": "Python 3",
   "language": "python",
   "name": "python3"
  },
  "language_info": {
   "codemirror_mode": {
    "name": "ipython",
    "version": 3
   },
   "file_extension": ".py",
   "mimetype": "text/x-python",
   "name": "python",
   "nbconvert_exporter": "python",
   "pygments_lexer": "ipython3",
   "version": "3.8.3"
  }
 },
 "nbformat": 4,
 "nbformat_minor": 4
}
